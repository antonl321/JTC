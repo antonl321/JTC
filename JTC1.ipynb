{
 "cells": [
  {
   "cell_type": "code",
   "execution_count": 1,
   "metadata": {},
   "outputs": [],
   "source": [
    "from memory.unsafe import DTypePointer\n",
    "from memory import memset_zero"
   ]
  },
  {
   "cell_type": "code",
   "execution_count": 24,
   "metadata": {},
   "outputs": [],
   "source": [
    "struct Field[DT: DType, VW: Int]:\n",
    "    var data: DTypePointer[DT]\n",
    "    var gx: Int\n",
    "    var gy: Int\n",
    "    var gz: Int\n",
    "    var dsize: Int\n",
    "    \n",
    "    fn __init__(inout self, gx: Int, gy: Int, gz: Int):\n",
    "        self.dsize = (gx+2)*(gy+2)*(gz+2)\n",
    "        self.data = DTypePointer[DT].alloc(self.dsize)\n",
    "        #memset_zero(self.data, self.dsize)\n",
    "        self.gx = gx\n",
    "        self.gy = gy\n",
    "        self.gz = gz\n",
    "\n",
    "    fn __copyinit__(inout self, other: Self):\n",
    "        self.gx = other.gx\n",
    "        self.gy = other.gy\n",
    "        self.gz = other.gz\n",
    "        self.data = DTypePointer[DT].alloc(other.dsize)\n",
    "        self.dsize = other.dsize\n",
    "        for i in range(0,self.dsize,VW):\n",
    "            self.data.simd_store[VW](i, other.data.load(i))\n",
    "\n",
    "    fn __add__(self, rhs: Field[DT,VW]) raises -> Field[DT,VW]:\n",
    "        # test if the fields have the same sizes\n",
    "        if self.gx != rhs.gx or self.gy != rhs.gy or self.gz != rhs.gz :\n",
    "            raise (\"cannot add fields with different grid sizes\")\n",
    "        let result = Field[DT,VW](self.gx, self.gy, self.gz)\n",
    "        let p : Int\n",
    "        let vwgx = self.gx - self.gx%VW\n",
    "        for k in range(1,self.gz+1):\n",
    "            for j in range(1,self.gy+1):\n",
    "                for i in range (1,vwgx+1,VW):\n",
    "                    p = k * (self.gx+2) * (self.gy+2) + j * (self.gx+2) + i\n",
    "                    print (i,j,k,p)\n",
    "                    result.data.simd_store[VW](p, self.data.simd_load[VW](p) + rhs.data.simd_load[VW](p))\n",
    "                for i in range (vwgx+1,self.gx+1):\n",
    "                    p = k * (self.gx+2) * (self.gy+2) + j * (self.gx+2) + i\n",
    "                    result.data.simd_store[1](p, self.data.simd_load[1](p) + rhs.data.simd_load[1](p))\n",
    "        return result\n",
    "\n",
    "    fn __del__(owned self):\n",
    "        self.data.free()\n",
    "        print(\"done del\")\n",
    "        \n",
    "    fn zero(inout self):\n",
    "        memset_zero[DT](self.data, self.dsize)\n",
    "\n",
    "    @always_inline\n",
    "    fn __getitem__(self, x: Int, y: Int, z: Int) -> SIMD[DT,1]:\n",
    "        return self.data.load(z * (self.gx+2) * (self.gy+2) + y * (self.gx+2) + x)\n",
    "\n",
    "    @always_inline\n",
    "    fn load[nelts:Int=VW](self, x: Int, y: Int, z: Int) -> SIMD[DT,nelts]:\n",
    "        return self.data.simd_load[nelts](z * (self.gx+2) * (self.gy+2) + y * (self.gx+2) + x)\n",
    "\n",
    "    @always_inline\n",
    "    fn __setitem__(self, x: Int, y: Int, z: Int, val: SIMD[DT,1]):\n",
    "        return self.data.store(z * (self.gx+2) * (self.gy+2) + y * (self.gx+2) + x, val)\n",
    "\n",
    "    @always_inline\n",
    "    fn store[nelts:Int=VW](self, x: Int, y: Int, z: Int, val: SIMD[DT, nelts]):\n",
    "        self.data.simd_store(z * (self.gx+2) * (self.gy+2) + y * (self.gx+2) + x, val)"
   ]
  },
  {
   "cell_type": "code",
   "execution_count": 29,
   "metadata": {},
   "outputs": [
    {
     "name": "stdout",
     "output_type": "stream",
     "text": [
      "1 2.0 3.0\n",
      "2 2.0 3.0\n",
      "3 2.0 3.0\n",
      "4 2.0 3.0\n",
      "5 2.0 3.0\n",
      "6 2.0 3.0\n",
      "7 2.0 3.0\n",
      "8 2.0 3.0\n",
      "1 1 1 41\n",
      "2 1 1 42\n",
      "3 1 1 43\n",
      "4 1 1 44\n",
      "5 1 1 45\n",
      "6 1 1 46\n",
      "7 1 1 47\n",
      "8 1 1 48\n",
      "done del\n",
      "1 5.0\n",
      "2 5.0\n",
      "3 5.0\n",
      "4 5.0\n",
      "5 5.0\n",
      "6 5.0\n",
      "7 5.0\n",
      "8 5.0\n"
     ]
    }
   ],
   "source": [
    "\n",
    "let n=8\n",
    "alias w=1\n",
    "var a = Field[DType.float32,w](n,1,1)\n",
    "var b = Field[DType.float32,w](n,1,1)\n",
    "var c = Field[DType.float32,w](n,1,1)\n",
    "for i in range(1,n+1):\n",
    "    a[i,1,1] = 2\n",
    "    b[i,1,1] = 3\n",
    "    print(i, a[i,1,1], b[i,1,1])\n",
    "\n",
    "c = a + b\n",
    "for i in range(1,n+1):\n",
    "    print(i, c[i,1,1])"
   ]
  },
  {
   "cell_type": "code",
   "execution_count": 21,
   "metadata": {},
   "outputs": [],
   "source": [
    "for i in range(2,2):\n",
    "    print(i)"
   ]
  }
 ],
 "metadata": {
  "kernelspec": {
   "display_name": "Mojo",
   "language": "mojo",
   "name": "mojo-jupyter-kernel"
  },
  "language_info": {
   "codemirror_mode": {
    "name": "mojo"
   },
   "file_extension": ".mojo",
   "mimetype": "text/x-mojo",
   "name": "mojo"
  }
 },
 "nbformat": 4,
 "nbformat_minor": 5
}
