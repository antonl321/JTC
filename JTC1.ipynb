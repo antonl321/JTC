{
 "cells": [
  {
   "cell_type": "code",
   "execution_count": 1,
   "metadata": {},
   "outputs": [],
   "source": [
    "from memory.unsafe import DTypePointer\n",
    "from memory import memset_zero"
   ]
  },
  {
   "cell_type": "code",
   "execution_count": 30,
   "metadata": {},
   "outputs": [
    {
     "name": "stderr",
     "output_type": "stream",
     "text": [
      "error: \u001b[0;1;31m\u001b[1mExpression [30] wrapper:31:65: \u001b[0m\u001b[1mexpected ':' after expression\n",
      "\u001b[0m        for i in range(self.dsize - self.dsize % VW, self.dsize)\n",
      "\u001b[0;1;32m                                                                ^\n",
      "\u001b[0m\u001b[0m\n",
      "error: \u001b[0;1;31m\u001b[1mExpression [30]:25:67: \u001b[0m\u001b[1mstatements must start at the beginning of a line\n",
      "\u001b[0m            self.data.simd_store[1](i, other.data.simd_load[1](i)):\n",
      "\u001b[0;1;32m                                                                  ^\n",
      "\u001b[0m\u001b[0m\n",
      "expression failed to parse (no further compiler diagnostics)"
     ]
    }
   ],
   "source": [
    "struct Field[DT: DType, VW: Int]:\n",
    "    var data: DTypePointer[DT]\n",
    "    var gx: Int\n",
    "    var gy: Int\n",
    "    var gz: Int\n",
    "    var dsize: Int\n",
    "    \n",
    "    fn __init__(inout self, gx: Int, gy: Int, gz: Int):\n",
    "        self.dsize = (gx+2)*(gy+2)*(gz+2)\n",
    "        self.data = DTypePointer[DT].alloc(self.dsize)\n",
    "        memset_zero(self.data, self.dsize)\n",
    "        self.gx = gx\n",
    "        self.gy = gy\n",
    "        self.gz = gz\n",
    "\n",
    "    fn __copyinit__(inout self, other: Self):\n",
    "        self.gx = other.gx\n",
    "        self.gy = other.gy\n",
    "        self.gz = other.gz\n",
    "        self.data = DTypePointer[DT].alloc(other.dsize)\n",
    "        self.dsize = other.dsize\n",
    "        for i in range(self.dsize - self.dsize % VW,VW):\n",
    "            self.data.simd_store[VW](i, other.data.simd_load[VW](i))\n",
    "        for i in range(self.dsize - self.dsize % VW, self.dsize)\n",
    "            self.data.simd_store[1](i, other.data.simd_load[1](i)):\n",
    "        # needs to handle data inconmensurate with VW\n",
    "\n",
    "    fn __add__(self, rhs: Field[DT,VW]) raises -> Field[DT,VW]:\n",
    "        # test if the fields have the same sizes\n",
    "        if self.gx != rhs.gx or self.gy != rhs.gy or self.gz != rhs.gz :\n",
    "            raise (\"cannot add fields with different grid sizes\")\n",
    "        let result = Field[DT,VW](self.gx, self.gy, self.gz)\n",
    "        let p : Int\n",
    "        let vwgx = self.gx - self.gx%VW\n",
    "        for k in range(1,self.gz+1):\n",
    "            for j in range(1,self.gy+1):\n",
    "                print(\"in loop jk\", j,k)\n",
    "                for i in range (1,vwgx+1,VW):\n",
    "                    p = k * (self.gx+2) * (self.gy+2) + j * (self.gx+2) + i\n",
    "                    print (i,j,k,p, VW, vwgx, self.gx%VW)\n",
    "                    print(self.data.simd_load[VW](p), rhs.data.simd_load[VW](p))\n",
    "                    result.data.simd_store[VW](p, self.data.simd_load[VW](p) + rhs.data.simd_load[VW](p))\n",
    "                    print(p, result.data.simd_load[VW](p), result.data.load(p))\n",
    "                for i in range (vwgx+1,self.gx+1):\n",
    "                    print(\"in loop 2\", i, vwgx)\n",
    "                    p = k * (self.gx+2) * (self.gy+2) + j * (self.gx+2) + i\n",
    "                    result.data.simd_store[1](p, self.data.simd_load[1](p) + rhs.data.simd_load[1](p))\n",
    "                    print(\"sum\",p,result.data.load(p))\n",
    "        return result\n",
    "\n",
    "    fn __del__(owned self):\n",
    "        self.data.free()\n",
    "        print(\"done del\")\n",
    "        \n",
    "    fn zero(inout self):\n",
    "        memset_zero[DT](self.data, self.dsize)\n",
    "\n",
    "    @always_inline\n",
    "    fn __getitem__(self, x: Int, y: Int, z: Int) -> SIMD[DT,1]:\n",
    "        let p = z * (self.gx+2) * (self.gy+2) + y * (self.gx+2) + x \n",
    "        print(\"get\",p,self.data.load(p))\n",
    "        return self.data.load(p)\n",
    "\n",
    "    @always_inline\n",
    "    fn load[nelts:Int=VW](self, x: Int, y: Int, z: Int) -> SIMD[DT,nelts]:\n",
    "        return self.data.simd_load[nelts](z * (self.gx+2) * (self.gy+2) + y * (self.gx+2) + x)\n",
    "\n",
    "    @always_inline\n",
    "    fn __setitem__(self, x: Int, y: Int, z: Int, val: SIMD[DT,1]):\n",
    "        return self.data.store(z * (self.gx+2) * (self.gy+2) + y * (self.gx+2) + x, val)\n",
    "\n",
    "    @always_inline\n",
    "    fn store[nelts:Int=VW](self, x: Int, y: Int, z: Int, val: SIMD[DT, nelts]):\n",
    "        self.data.simd_store(z * (self.gx+2) * (self.gy+2) + y * (self.gx+2) + x, val)"
   ]
  },
  {
   "cell_type": "code",
   "execution_count": 34,
   "metadata": {},
   "outputs": [
    {
     "name": "stdout",
     "output_type": "stream",
     "text": [
      "get 25 1.0\n",
      "get 25 10.0\n",
      "1 1.0 10.0\n",
      "get 26 2.0\n",
      "get 26 20.0\n",
      "2 2.0 20.0\n",
      "get 27 3.0\n",
      "get 27 30.0\n",
      "3 3.0 30.0\n",
      "get 28 4.0\n",
      "get 28 40.0\n",
      "4 4.0 40.0\n",
      "in loop 1 1\n",
      "1 1 1 25 4 4 0\n",
      "[1.0, 2.0, 3.0, 4.0] [10.0, 20.0, 30.0, 40.0]\n",
      "25 [11.0, 22.0, 33.0, 44.0] 11.0\n",
      "done del\n",
      "get 25 11.0\n",
      "1 11.0\n",
      "get 26 22.0\n",
      "2 22.0\n",
      "get 27 33.0\n",
      "3 33.0\n",
      "get 28 44.0\n",
      "4 44.0\n"
     ]
    }
   ],
   "source": [
    "\n",
    "let n=4\n",
    "alias w=4\n",
    "var a = Field[DType.float32,w](n,1,1)\n",
    "var b = Field[DType.float32,w](n,1,1)\n",
    "#var c = Field[DType.float32,w](n,1,1)\n",
    "\n",
    "for i in range(1,n+1):\n",
    "    a[i,1,1] = i\n",
    "    b[i,1,1] = i*10\n",
    "    print(i, a[i,1,1], b[i,1,1])\n",
    "\n",
    "let c : Field[DType.float32,w] = a + b\n",
    "#c.zero()\n",
    "for i in range(1,n+1):\n",
    "    print(i, c[i,1,1])\n",
    "\n"
   ]
  },
  {
   "cell_type": "code",
   "execution_count": 16,
   "metadata": {},
   "outputs": [
    {
     "name": "stdout",
     "output_type": "stream",
     "text": [
      "[1.0, 1.0, 1.0, 1.0] [3.3300000000000001, 3.3300000000000001, 3.3300000000000001, 3.3300000000000001] [4.3300000000000001, 4.3300000000000001, 4.3300000000000001, 4.3300000000000001]\n"
     ]
    }
   ],
   "source": [
    "var a: SIMD[DType.float64, 4]\n",
    "var b: SIMD[DType.float64, 4]\n",
    "var c: SIMD[DType.float64, 4]\n",
    "\n",
    "a=1.0\n",
    "b=3.33\n",
    "c=a+b\n",
    "print(a,b,c)"
   ]
  }
 ],
 "metadata": {
  "kernelspec": {
   "display_name": "Mojo",
   "language": "mojo",
   "name": "mojo-jupyter-kernel"
  },
  "language_info": {
   "codemirror_mode": {
    "name": "mojo"
   },
   "file_extension": ".mojo",
   "mimetype": "text/x-mojo",
   "name": "mojo"
  }
 },
 "nbformat": 4,
 "nbformat_minor": 5
}
