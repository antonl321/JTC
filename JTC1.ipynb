{
 "cells": [
  {
   "cell_type": "code",
   "execution_count": 1,
   "metadata": {},
   "outputs": [],
   "source": [
    "from memory.unsafe import DTypePointer\n",
    "from memory import memset_zero"
   ]
  },
  {
   "cell_type": "code",
   "execution_count": 2,
   "metadata": {},
   "outputs": [],
   "source": [
    "struct Field[DT: DType, VW: Int]:\n",
    "    var data: DTypePointer[DT]\n",
    "    var gx: Int\n",
    "    var gy: Int\n",
    "    var gz: Int\n",
    "    var dsize: Int\n",
    "    \n",
    "    fn __init__(inout self, gx: Int, gy: Int, gz: Int):\n",
    "        self.dsize = (gx+2)*(gy+2)*(gz+2)\n",
    "        self.data = DTypePointer[DT].alloc(self.dsize)\n",
    "        #memset_zero(self.data, self.dsize)\n",
    "        self.gx = gx\n",
    "        self.gy = gy\n",
    "        self.gz = gz\n",
    "\n",
    "    fn __copyinit__(inout self, other: Self):\n",
    "        self.gx = other.gx\n",
    "        self.gy = other.gy\n",
    "        self.gz = other.gz\n",
    "        self.data = DTypePointer[DT].alloc(other.dsize)\n",
    "        self.dsize = other.dsize\n",
    "        for i in range(0,self.dsize,VW):\n",
    "            self.data.simd_store[VW](i, other.data.load(i))\n",
    "\n",
    "    fn __add__(self, rhs: Field[DT,VW]) -> Field[DT,VW]:\n",
    "        # test if the fields have the same sizes\n",
    "        let result = Field[DT,VW](self.gx, self.gy, self.gz)\n",
    "        # adding the BC (i.e. the whole data array) is not needed but is simpler\n",
    "        for i in range(0,self.dsize,VW):\n",
    "            result.data.simd_store[VW](i, self.data.simd_load[VW](i) + rhs.data.simd_load[VW](i))\n",
    "        return result\n",
    "\n",
    "    fn __del__(owned self):\n",
    "        self.data.free()\n",
    "        print(\"done del\")\n",
    "        \n",
    "    fn zero(inout self):\n",
    "        memset_zero[DT](self.data, self.dsize)\n",
    "\n",
    "    @always_inline\n",
    "    fn __getitem__(self, x: Int, y: Int, z: Int) -> SIMD[DT,1]:\n",
    "        return self.data.load(z * (self.gx+2) * (self.gy+2) + y * (self.gx+2) + x)\n",
    "\n",
    "    @always_inline\n",
    "    fn load[nelts:Int=VW](self, x: Int, y: Int, z: Int) -> SIMD[DT,nelts]:\n",
    "        return self.data.simd_load[nelts](z * (self.gx+2) * (self.gy+2) + y * (self.gx+2) + x)\n",
    "\n",
    "    @always_inline\n",
    "    fn __setitem__(self, x: Int, y: Int, z: Int, val: SIMD[DT,1]):\n",
    "        return self.data.store(z * (self.gx+2) * (self.gy+2) + y * (self.gx+2) + x, val)\n",
    "\n",
    "    @always_inline\n",
    "    fn store[nelts:Int=VW](self, x: Int, y: Int, z: Int, val: SIMD[DT, nelts]):\n",
    "        self.data.simd_store(z * (self.gx+2) * (self.gy+2) + y * (self.gx+2) + x, val)"
   ]
  },
  {
   "cell_type": "code",
   "execution_count": 7,
   "metadata": {},
   "outputs": [
    {
     "name": "stdout",
     "output_type": "stream",
     "text": [
      "0 2.0 3.0\n",
      "1 2.0 3.0\n",
      "2 2.0 3.0\n",
      "3 2.0 3.0\n",
      "4 2.0 3.0\n",
      "5 2.0 3.0\n",
      "6 2.0 3.0\n",
      "7 2.0 3.0\n",
      "done del\n",
      "0 5.0\n",
      "1 5.0\n",
      "2 5.0\n",
      "3 5.0\n",
      "4 5.0\n",
      "5 5.0\n",
      "6 5.0\n",
      "7 5.0\n"
     ]
    }
   ],
   "source": [
    "\n",
    "n=8\n",
    "var a = Field[DType.float32,4](9,1,1)\n",
    "var b = Field[DType.float32,4](9,1,1)\n",
    "var c = Field[DType.float32,4](9,1,1)\n",
    "for i in range(n):\n",
    "    a[i,0,0] = 2\n",
    "    b[i,0,0] = 3\n",
    "    print(i, a[i,0,0], b[i,0,0])\n",
    "\n",
    "c = a + b\n",
    "for i in range(n):\n",
    "    print(i, c[i,0,0])"
   ]
  }
 ],
 "metadata": {
  "kernelspec": {
   "display_name": "Mojo",
   "language": "mojo",
   "name": "mojo-jupyter-kernel"
  },
  "language_info": {
   "codemirror_mode": {
    "name": "mojo"
   },
   "file_extension": ".mojo",
   "mimetype": "text/x-mojo",
   "name": "mojo"
  }
 },
 "nbformat": 4,
 "nbformat_minor": 5
}
